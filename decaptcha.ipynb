{
 "cells": [
  {
   "cell_type": "code",
   "execution_count": 1,
   "metadata": {},
   "outputs": [
    {
     "name": "stderr",
     "output_type": "stream",
     "text": [
      "Using TensorFlow backend.\n"
     ]
    }
   ],
   "source": [
    "import pandas as pd\n",
    "import numpy as np\n",
    "import os\n",
    "import cv2\n",
    "import tensorflow as tf\n",
    "import matplotlib.pyplot as plt\n",
    "import imutils\n",
    "import tensorflow as tf\n",
    "import keras\n",
    "from keras.layers import Input, Dense, Activation, ZeroPadding2D, BatchNormalization, Flatten, Conv2D, MaxPooling2D\n",
    "from keras.models import Model"
   ]
  },
  {
   "cell_type": "code",
   "execution_count": 2,
   "metadata": {},
   "outputs": [],
   "source": [
    "DATA_DIR = 'dataset/'\n",
    "files_in_train = sorted(os.listdir(DATA_DIR))\n",
    "images=[i for i in files_in_train]\n",
    "df = pd.DataFrame()\n",
    "df['label']=[str(x) for x in images]\n",
    "df['image'] = [DATA_DIR + str(x) for x in images]\n",
    "df['label'] = df['label'].str.rstrip('.png')"
   ]
  },
  {
   "cell_type": "code",
   "execution_count": 3,
   "metadata": {},
   "outputs": [
    {
     "data": {
      "text/html": [
       "<div>\n",
       "<style scoped>\n",
       "    .dataframe tbody tr th:only-of-type {\n",
       "        vertical-align: middle;\n",
       "    }\n",
       "\n",
       "    .dataframe tbody tr th {\n",
       "        vertical-align: top;\n",
       "    }\n",
       "\n",
       "    .dataframe thead th {\n",
       "        text-align: right;\n",
       "    }\n",
       "</style>\n",
       "<table border=\"1\" class=\"dataframe\">\n",
       "  <thead>\n",
       "    <tr style=\"text-align: right;\">\n",
       "      <th></th>\n",
       "      <th>label</th>\n",
       "      <th>image</th>\n",
       "    </tr>\n",
       "  </thead>\n",
       "  <tbody>\n",
       "    <tr>\n",
       "      <th>0</th>\n",
       "      <td>AAA</td>\n",
       "      <td>dataset/AAA.png</td>\n",
       "    </tr>\n",
       "    <tr>\n",
       "      <th>1</th>\n",
       "      <td>AAE</td>\n",
       "      <td>dataset/AAE.png</td>\n",
       "    </tr>\n",
       "    <tr>\n",
       "      <th>2</th>\n",
       "      <td>AAGL</td>\n",
       "      <td>dataset/AAGL.png</td>\n",
       "    </tr>\n",
       "    <tr>\n",
       "      <th>3</th>\n",
       "      <td>AAQI</td>\n",
       "      <td>dataset/AAQI.png</td>\n",
       "    </tr>\n",
       "    <tr>\n",
       "      <th>4</th>\n",
       "      <td>AAR</td>\n",
       "      <td>dataset/AAR.png</td>\n",
       "    </tr>\n",
       "  </tbody>\n",
       "</table>\n",
       "</div>"
      ],
      "text/plain": [
       "  label             image\n",
       "0   AAA   dataset/AAA.png\n",
       "1   AAE   dataset/AAE.png\n",
       "2  AAGL  dataset/AAGL.png\n",
       "3  AAQI  dataset/AAQI.png\n",
       "4   AAR   dataset/AAR.png"
      ]
     },
     "execution_count": 3,
     "metadata": {},
     "output_type": "execute_result"
    }
   ],
   "source": [
    "df.head()"
   ]
  },
  {
   "cell_type": "code",
   "execution_count": 4,
   "metadata": {},
   "outputs": [],
   "source": [
    "def resize_to_fit(image, width, height):\n",
    "    (h, w) = image.shape[:2]\n",
    "    if w > h:\n",
    "        image = imutils.resize(image, width=width)\n",
    "    else:\n",
    "        image = imutils.resize(image, height=height)\n",
    "    padW = int((width - image.shape[1]) / 2.0)\n",
    "    padH = int((height - image.shape[0]) / 2.0)\n",
    "    image = cv2.copyMakeBorder(image, padH, padH, padW, padW, cv2.BORDER_REPLICATE)\n",
    "    image = cv2.resize(image, (width, height))\n",
    "    return image\n",
    "\n",
    "def preprocess_image(image):\n",
    "    image = cv2.cvtColor(image, cv2.COLOR_BGR2HSV) \n",
    "    image[image==image[0,0]] = 255\n",
    "    kernel_1 = np.ones((7,7), np.uint8) \n",
    "    kernel_2 = np.ones((4,4), np.uint8) \n",
    "    img_dilated_1 = cv2.dilate(image, kernel_1, iterations=1)\n",
    "    image = cv2.cvtColor(img_dilated_1, cv2.COLOR_BGR2GRAY)\n",
    "    blur = cv2.GaussianBlur(image, (5,5), 0)\n",
    "    retval_blur ,thresh_blur = cv2.threshold(blur, 0, 255, cv2.THRESH_BINARY+cv2.THRESH_OTSU)\n",
    "    image = cv2.bitwise_not(thresh_blur)\n",
    "    cols = np.sum(image, axis=0)\n",
    "    rows = np.sum(image, axis=1)\n",
    "    flag = 0\n",
    "    thresh = 255*5\n",
    "    temp = 0\n",
    "    start = []\n",
    "    end = []\n",
    "    for i in range(len(cols)):\n",
    "        if cols[i] > thresh and flag==0:\n",
    "            flag = 1\n",
    "            temp = i\n",
    "        if cols[i] <= thresh and flag==1:\n",
    "            if (i-temp)>5 :\n",
    "                start.append(temp)\n",
    "                end.append(i)\n",
    "            flag = 0\n",
    "    char = np.zeros((len(start), 140, 140))\n",
    "    for i in range(len(start)):\n",
    "        l = end[i] - start[i]\n",
    "        char[i][:, 75-(l//2):75+l-(l//2)] = image[5:-5,start[i]:end[i]]\n",
    "    resized = np.zeros((len(start),30,30))\n",
    "    for i in range(len(start)):\n",
    "        char[i] = 255*np.ones((140,140)) - char[i]\n",
    "        resized[i]=resize_to_fit(char[i], 30, 30)\n",
    "    return resized"
   ]
  },
  {
   "cell_type": "code",
   "execution_count": 5,
   "metadata": {},
   "outputs": [],
   "source": [
    "number = 0\n",
    "X = np.zeros((8000, 30, 30))\n",
    "Y = np.zeros((8000, 26))               \n",
    "for i in range(len(df)):\n",
    "    resized = preprocess_image(cv2.imread(df.iloc[i]['image']))\n",
    "    index = 0\n",
    "    for letter in resized:\n",
    "        X[number] = letter\n",
    "        Y[number][ord(df.iloc[i]['label'][index])- 65] = 1\n",
    "        index += 1\n",
    "        number += 1"
   ]
  },
  {
   "cell_type": "code",
   "execution_count": 6,
   "metadata": {},
   "outputs": [],
   "source": [
    "training_size = 6800\n",
    "X = X[:number,:,:]\n",
    "X_train = X[:training_size,:,:]\n",
    "X_test = X[training_size:,:,:]\n",
    "Y = Y[:number,:]\n",
    "Y_train = Y[:training_size,:]\n",
    "Y_test = Y[training_size:,:]"
   ]
  },
  {
   "cell_type": "code",
   "execution_count": 7,
   "metadata": {},
   "outputs": [
    {
     "data": {
      "image/png": "[encoded data removed]",
      "text/plain": [
       "<Figure size 432x288 with 1 Axes>"
      ]
     },
     "metadata": {
      "needs_background": "light"
     },
     "output_type": "display_data"
    },
    {
     "data": {
      "text/plain": [
       "array([1., 0., 0., 0., 0., 0., 0., 0., 0., 0., 0., 0., 0., 0., 0., 0., 0.,\n",
       "       0., 0., 0., 0., 0., 0., 0., 0., 0.])"
      ]
     },
     "execution_count": 7,
     "metadata": {},
     "output_type": "execute_result"
    }
   ],
   "source": [
    "plt.imshow(X[1])\n",
    "plt.show()\n",
    "Y[1]"
   ]
  },
  {
   "cell_type": "code",
   "execution_count": 8,
   "metadata": {},
   "outputs": [
    {
     "name": "stdout",
     "output_type": "stream",
     "text": [
      "(6800, 30, 30, 1)\n",
      "(6800, 26)\n",
      "(208, 30, 30, 1)\n",
      "(208, 26)\n"
     ]
    }
   ],
   "source": [
    "X_train = X_train.reshape(X_train.shape[0], X_train.shape[1], X_train.shape[2], 1)\n",
    "X_test = X_test.reshape(X_test.shape[0], X_test.shape[1], X_test.shape[2], 1)\n",
    "print(X_train.shape)\n",
    "print(Y_train.shape)\n",
    "print(X_test.shape)\n",
    "print(Y_test.shape)"
   ]
  },
  {
   "cell_type": "code",
   "execution_count": 9,
   "metadata": {},
   "outputs": [],
   "source": [
    "X_train = X_train/255\n",
    "X_test = X_test/255"
   ]
  },
  {
   "cell_type": "code",
   "execution_count": 10,
   "metadata": {},
   "outputs": [],
   "source": [
    "def model_out(input_shape):\n",
    "    X_Input = Input(input_shape)\n",
    "\n",
    "    X = Conv2D(30, (5, 5), padding = \"same\", name = 'conv1')(X_Input)\n",
    "    X = Activation('relu')(X)\n",
    "    X = MaxPooling2D((2, 2), name='max_pool_1')(X)\n",
    "\n",
    "    X = Conv2D(50, (5, 5), padding = \"same\", name = 'conv2')(X)\n",
    "    X = Activation('relu')(X)\n",
    "    X = MaxPooling2D((2, 2), name='max_pool_2')(X)\n",
    "\n",
    "    X = Flatten()(X)\n",
    "    X = Dense(500, activation='relu', name='fc1')(X)\n",
    "    X = Dense(26, activation='softmax', name='fc2')(X)\n",
    "\n",
    "    model = Model(inputs = X_Input, outputs = X, name='decaptcha')\n",
    "    return model"
   ]
  },
  {
   "cell_type": "code",
   "execution_count": 11,
   "metadata": {},
   "outputs": [],
   "source": [
    "model = model_out(X_train.shape[1:])"
   ]
  },
  {
   "cell_type": "code",
   "execution_count": 12,
   "metadata": {},
   "outputs": [],
   "source": [
    "model.compile(loss=\"categorical_crossentropy\", optimizer=\"adam\", metrics=[\"accuracy\"])"
   ]
  },
  {
   "cell_type": "code",
   "execution_count": 13,
   "metadata": {},
   "outputs": [
    {
     "name": "stdout",
     "output_type": "stream",
     "text": [
      "Epoch 1/10\n",
      "6800/6800 [==============================] - 16s 2ms/step - loss: 0.5961 - accuracy: 0.8391\n",
      "Epoch 2/10\n",
      "6800/6800 [==============================] - 5s 781us/step - loss: 0.0011 - accuracy: 1.0000\n",
      "Epoch 3/10\n",
      "6800/6800 [==============================] - 5s 735us/step - loss: 3.9401e-04 - accuracy: 1.0000\n",
      "Epoch 4/10\n",
      "6800/6800 [==============================] - 5s 671us/step - loss: 2.0833e-04 - accuracy: 1.0000\n",
      "Epoch 5/10\n",
      "6800/6800 [==============================] - 4s 633us/step - loss: 1.3626e-04 - accuracy: 1.0000\n",
      "Epoch 6/10\n",
      "6800/6800 [==============================] - 4s 627us/step - loss: 8.9057e-05 - accuracy: 1.0000\n",
      "Epoch 7/10\n",
      "6800/6800 [==============================] - 4s 655us/step - loss: 6.3797e-05 - accuracy: 1.0000\n",
      "Epoch 8/10\n",
      "6800/6800 [==============================] - 4s 640us/step - loss: 4.7591e-05 - accuracy: 1.0000\n",
      "Epoch 9/10\n",
      "6800/6800 [==============================] - 5s 666us/step - loss: 3.6212e-05 - accuracy: 1.0000\n",
      "Epoch 10/10\n",
      "6800/6800 [==============================] - 6s 868us/step - loss: 2.8275e-05 - accuracy: 1.0000\n"
     ]
    },
    {
     "data": {
      "text/plain": [
       "<keras.callbacks.callbacks.History at 0x1d9b71e9d08>"
      ]
     },
     "execution_count": 13,
     "metadata": {},
     "output_type": "execute_result"
    }
   ],
   "source": [
    "model.fit(x = X_train, y = Y_train, batch_size=32, epochs=10, verbose=1)"
   ]
  },
  {
   "cell_type": "code",
   "execution_count": 14,
   "metadata": {},
   "outputs": [
    {
     "name": "stdout",
     "output_type": "stream",
     "text": [
      "208/208 [==============================] - 0s 495us/step\n",
      "\n",
      "Loss = 2.435886919836496e-05\n",
      "Test Accuracy = 1.0\n"
     ]
    }
   ],
   "source": [
    "pred = model.evaluate(x = X_test,y = Y_test)\n",
    "print()\n",
    "print (\"Loss = \" + str(pred[0]))\n",
    "print (\"Test Accuracy = \" + str(pred[1]))"
   ]
  },
  {
   "cell_type": "code",
   "execution_count": 15,
   "metadata": {},
   "outputs": [],
   "source": [
    "model.save('submit/model.h5')"
   ]
  }
 ],
 "metadata": {
  "kernelspec": {
   "display_name": "Python 3",
   "language": "python",
   "name": "python3"
  },
  "language_info": {
   "codemirror_mode": {
    "name": "ipython",
    "version": 3
   },
   "file_extension": ".py",
   "mimetype": "text/x-python",
   "name": "python",
   "nbconvert_exporter": "python",
   "pygments_lexer": "ipython3",
   "version": "3.7.7"
  }
 },
 "nbformat": 4,
 "nbformat_minor": 2
}
